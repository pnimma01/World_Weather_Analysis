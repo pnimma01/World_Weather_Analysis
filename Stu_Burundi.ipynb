{
 "cells": [
  {
   "cell_type": "code",
   "execution_count": 42,
   "metadata": {},
   "outputs": [],
   "source": [
    "# Dependencies\n",
    "import requests\n",
    "from config import weather_api_key\n",
    "import json"
   ]
  },
  {
   "cell_type": "code",
   "execution_count": 44,
   "metadata": {},
   "outputs": [
    {
     "name": "stdout",
     "output_type": "stream",
     "text": [
      "http://api.openweathermap.org/data/2.5/weather?units=Metric&APPID=a04b4365cf47ab60d5bdb4ff06301ef2&q=Bujumbura\n"
     ]
    },
    {
     "data": {
      "text/plain": [
       "<Response [200]>"
      ]
     },
     "execution_count": 44,
     "metadata": {},
     "output_type": "execute_result"
    }
   ],
   "source": [
    "# Build query URL and request your results in Celsius\n",
    "# Starting URL for Weather Map API Call.\n",
    "url = \"http://api.openweathermap.org/data/2.5/weather?units=Metric&APPID=\" + weather_api_key\n",
    "#print(url)\n",
    "# Create an endpoint URL for a city.\n",
    "city_url = url + \"&q=\" + \"Bujumbura\"\n",
    "print(city_url)\n",
    "# Get weather data\n",
    "city_weather = requests.get(city_url)\n",
    "city_weather"
   ]
  },
  {
   "cell_type": "code",
   "execution_count": 36,
   "metadata": {},
   "outputs": [
    {
     "data": {
      "text/plain": [
       "{'coord': {'lon': 29.3644, 'lat': -3.3822},\n",
       " 'weather': [{'id': 803,\n",
       "   'main': 'Clouds',\n",
       "   'description': 'broken clouds',\n",
       "   'icon': '04d'}],\n",
       " 'base': 'stations',\n",
       " 'main': {'temp': 19.84,\n",
       "  'feels_like': 20.33,\n",
       "  'temp_min': 19.84,\n",
       "  'temp_max': 19.84,\n",
       "  'pressure': 1012,\n",
       "  'humidity': 94},\n",
       " 'visibility': 10000,\n",
       " 'wind': {'speed': 1.03, 'deg': 90},\n",
       " 'clouds': {'all': 75},\n",
       " 'dt': 1643690629,\n",
       " 'sys': {'type': 1,\n",
       "  'id': 2493,\n",
       "  'country': 'BI',\n",
       "  'sunrise': 1643688503,\n",
       "  'sunset': 1643732622},\n",
       " 'timezone': 7200,\n",
       " 'id': 425378,\n",
       " 'name': 'Bujumbura',\n",
       " 'cod': 200}"
      ]
     },
     "execution_count": 36,
     "metadata": {},
     "output_type": "execute_result"
    }
   ],
   "source": [
    "# Get temperature from JSON response\n",
    "Bujumbura_data = city_weather.json()\n",
    "Bujumbura_data"
   ]
  },
  {
   "cell_type": "code",
   "execution_count": 48,
   "metadata": {},
   "outputs": [
    {
     "data": {
      "text/plain": [
       "{'coord': {'lon': 29.3644, 'lat': -3.3822},\n",
       " 'weather': [{'id': 803,\n",
       "   'main': 'Clouds',\n",
       "   'description': 'broken clouds',\n",
       "   'icon': '04d'}],\n",
       " 'base': 'stations',\n",
       " 'main': {'temp': 19.84,\n",
       "  'feels_like': 20.33,\n",
       "  'temp_min': 19.84,\n",
       "  'temp_max': 19.84,\n",
       "  'pressure': 1012,\n",
       "  'humidity': 94},\n",
       " 'visibility': 10000,\n",
       " 'wind': {'speed': 1.03, 'deg': 90},\n",
       " 'clouds': {'all': 75},\n",
       " 'dt': 1643690629,\n",
       " 'sys': {'type': 1,\n",
       "  'id': 2493,\n",
       "  'country': 'BI',\n",
       "  'sunrise': 1643688503,\n",
       "  'sunset': 1643732622},\n",
       " 'timezone': 7200,\n",
       " 'id': 425378,\n",
       " 'name': 'Bujumbura',\n",
       " 'cod': 200}"
      ]
     },
     "execution_count": 48,
     "metadata": {},
     "output_type": "execute_result"
    }
   ],
   "source": [
    "# Report temperature\n",
    "Bujumbura_data [\"main\"][\"temp\"]\n",
    "#Bujumbura_data[\"name\"]\n",
    "#Bujumbura_data.values()"
   ]
  },
  {
   "cell_type": "code",
   "execution_count": 50,
   "metadata": {},
   "outputs": [
    {
     "name": "stdout",
     "output_type": "stream",
     "text": [
      "{\n",
      "      \"feels_like\": 20.33,\n",
      "      \"humidity\": 94,\n",
      "      \"pressure\": 1012,\n",
      "      \"temp\": 19.84,\n",
      "      \"temp_max\": 19.84,\n",
      "      \"temp_min\": 19.84\n",
      "}\n"
     ]
    }
   ],
   "source": [
    "\n",
    "print(json.dumps(Bujumbura_data[\"main\"], indent=6, sort_keys=True))"
   ]
  },
  {
   "cell_type": "code",
   "execution_count": null,
   "metadata": {},
   "outputs": [],
   "source": []
  }
 ],
 "metadata": {
  "kernelspec": {
   "display_name": "Python 3 (ipykernel)",
   "language": "python",
   "name": "python3"
  },
  "language_info": {
   "codemirror_mode": {
    "name": "ipython",
    "version": 3
   },
   "file_extension": ".py",
   "mimetype": "text/x-python",
   "name": "python",
   "nbconvert_exporter": "python",
   "pygments_lexer": "ipython3",
   "version": "3.9.7"
  },
  "varInspector": {
   "cols": {
    "lenName": 16,
    "lenType": 16,
    "lenVar": 40
   },
   "kernels_config": {
    "python": {
     "delete_cmd_postfix": "",
     "delete_cmd_prefix": "del ",
     "library": "var_list.py",
     "varRefreshCmd": "print(var_dic_list())"
    },
    "r": {
     "delete_cmd_postfix": ") ",
     "delete_cmd_prefix": "rm(",
     "library": "var_list.r",
     "varRefreshCmd": "cat(var_dic_list()) "
    }
   },
   "types_to_exclude": [
    "module",
    "function",
    "builtin_function_or_method",
    "instance",
    "_Feature"
   ],
   "window_display": false
  }
 },
 "nbformat": 4,
 "nbformat_minor": 2
}
